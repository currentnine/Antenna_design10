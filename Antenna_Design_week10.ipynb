{
 "cells": [
  {
   "cell_type": "code",
   "execution_count": 4,
   "id": "8b034afe",
   "metadata": {},
   "outputs": [
    {
     "name": "stdout",
     "output_type": "stream",
     "text": [
      "수신 전력(와트): 1.2515848263046194e-09 W\n",
      "수신 전력(dBm): -59.025397107001176 dBm\n"
     ]
    }
   ],
   "source": [
    "import math\n",
    "\n",
    "def friis_transmission(Pt_W, Gt_dB, Gr_dB, f_GHz, R_km):\n",
    "    Gt = 10 ** (Gt_dB / 10)  \n",
    "    Gr = 10 ** (Gr_dB / 10)  \n",
    "    f_Hz = f_GHz * 10**9     \n",
    "    R_m = R_km * 1000       \n",
    "    c = 3e8\n",
    "    lambda_ = c / f_Hz\n",
    "    # 프리스 전송 방정식을 이용한 수신 전력 계산 (W)\n",
    "    Pr_W = (Pt_W * Gt * Gr * (lambda_ ** 2)) / ((4 * math.pi * R_m) ** 2)\n",
    "    Pr_dBm = 10 * math.log10(Pr_W / 0.001)\n",
    "    return Pr_W, Pr_dBm\n",
    "\n",
    "Pt = 1      \n",
    "Gt = 10    \n",
    "Gr = 15     \n",
    "f = 2.4     \n",
    "R = 5      \n",
    "\n",
    "\n",
    "Pr_W, Pr_dBm = friis_transmission(Pt, Gt, Gr, f, R)\n",
    "\n",
    "print(f\"수신 전력(와트): {Pr_W} W\")\n",
    "print(f\"수신 전력(dBm): {Pr_dBm} dBm\")"
   ]
  },
  {
   "cell_type": "code",
   "execution_count": null,
   "id": "ba127d07",
   "metadata": {},
   "outputs": [],
   "source": []
  }
 ],
 "metadata": {
  "kernelspec": {
   "display_name": "ICT",
   "language": "python",
   "name": "ict"
  },
  "language_info": {
   "codemirror_mode": {
    "name": "ipython",
    "version": 3
   },
   "file_extension": ".py",
   "mimetype": "text/x-python",
   "name": "python",
   "nbconvert_exporter": "python",
   "pygments_lexer": "ipython3",
   "version": "3.9.7"
  }
 },
 "nbformat": 4,
 "nbformat_minor": 5
}
